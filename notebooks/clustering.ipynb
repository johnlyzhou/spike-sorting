{
 "cells": [
  {
   "cell_type": "markdown",
   "id": "8_70wi0sbe8C",
   "metadata": {
    "id": "8_70wi0sbe8C"
   },
   "source": [
    "### Imports"
   ]
  },
  {
   "cell_type": "code",
   "execution_count": 28,
   "id": "4822a282",
   "metadata": {
    "id": "4822a282"
   },
   "outputs": [],
   "source": [
    "import os\n",
    "\n",
    "from tqdm import tqdm\n",
    "import numpy as np\n",
    "from numpy.linalg import norm\n",
    "import matplotlib.pyplot as plt\n",
    "import pprint\n",
    "from sklearn.cluster import KMeans\n",
    "from sklearn.metrics import adjusted_rand_score\n",
    "from sklearn.manifold import TSNE\n",
    "import networkx as nx\n",
    "from sklearn.metrics import pairwise_distances\n",
    "\n",
    "from src.evaluation.model_utils import get_latents\n",
    "from src.models.spike_vae_module import SpikeSortingVAE\n",
    "from src.evaluation.cluster import clustering_analysis"
   ]
  },
  {
   "cell_type": "markdown",
   "id": "ff08fde8",
   "metadata": {},
   "source": [
    "### Data"
   ]
  },
  {
   "cell_type": "code",
   "execution_count": 3,
   "id": "969054e8",
   "metadata": {},
   "outputs": [],
   "source": [
    "REPO_PATH = \"/Users/johnzhou/research/spike-sorting\"\n",
    "cluster_fname = f\"{REPO_PATH}/data/processed/clusters_k=20/templates.npy\"\n",
    "cluster_templates = np.load(cluster_fname)\n",
    "cluster_labels = np.load(f\"{REPO_PATH}/data/processed/clusters_k=20/unit_idxs.npy\")"
   ]
  },
  {
   "cell_type": "code",
   "execution_count": 6,
   "id": "4b7b367f",
   "metadata": {},
   "outputs": [
    {
     "name": "stdout",
     "output_type": "stream",
     "text": [
      "(20000, 6)\n"
     ]
    }
   ],
   "source": [
    "vae_model = f'{REPO_PATH}/experiments/vae/vae_6latent/model-v1.ckpt'\n",
    "lat = get_latents(SpikeSortingVAE, vae_model, cluster_fname)\n",
    "print(lat.shape)"
   ]
  },
  {
   "cell_type": "markdown",
   "id": "74ffb1ab",
   "metadata": {},
   "source": [
    "### Pre-split"
   ]
  },
  {
   "cell_type": "code",
   "execution_count": null,
   "id": "c12111a3",
   "metadata": {},
   "outputs": [
    {
     "name": "stderr",
     "output_type": "stream",
     "text": [
      "  1%|▏                                      | 102/20000 [00:08<28:16, 11.73it/s]"
     ]
    }
   ],
   "source": [
    "import time\n",
    "\n",
    "dist = 10\n",
    "n_samples = lat.shape[0]\n",
    "G = nx.Graph()\n",
    "G.add_nodes_from(range(n_samples))\n",
    "\n",
    "spike_dists = pairwise_distances(lat)\n",
    "\n",
    "for i in tqdm(range(n_samples)):\n",
    "    for j in range(i + 1, n_samples):\n",
    "        if spike_dists[i, j] < dist:\n",
    "            G.add_edge(i, j)"
   ]
  },
  {
   "cell_type": "markdown",
   "id": "9876182d",
   "metadata": {},
   "source": [
    "### Clustering"
   ]
  },
  {
   "cell_type": "code",
   "execution_count": 23,
   "id": "Y1Ab4LDWvgfr",
   "metadata": {
    "executionInfo": {
     "elapsed": 286,
     "status": "ok",
     "timestamp": 1639981338989,
     "user": {
      "displayName": "Kevin Chen",
      "photoUrl": "https://lh3.googleusercontent.com/a-/AOh14GjvBvIsUaUnbmQbOP1phY7Z8t788zlfrrZQmVLNbw=s64",
      "userId": "14158228473175021444"
     },
     "user_tz": 300
    },
    "id": "Y1Ab4LDWvgfr"
   },
   "outputs": [],
   "source": [
    "templates = cluster_templates\n",
    "clusters = cluster_labels\n",
    "\n",
    "# Map cluster indices to new numbers\n",
    "cluster_map = dict(zip(list(np.unique(templates)), list(range(20))))\n",
    "clusters = np.vectorize(cluster_map.get)(clusters)"
   ]
  },
  {
   "cell_type": "code",
   "execution_count": 27,
   "id": "OIpUoi7u7GJ1",
   "metadata": {
    "colab": {
     "base_uri": "https://localhost:8080/",
     "height": 817
    },
    "executionInfo": {
     "elapsed": 17163,
     "status": "ok",
     "timestamp": 1639974193912,
     "user": {
      "displayName": "Kevin Chen",
      "photoUrl": "https://lh3.googleusercontent.com/a-/AOh14GjvBvIsUaUnbmQbOP1phY7Z8t788zlfrrZQmVLNbw=s64",
      "userId": "14158228473175021444"
     },
     "user_tz": 300
    },
    "id": "OIpUoi7u7GJ1",
    "outputId": "3605fc6e-c266-4141-e043-9f9ce091d83b"
   },
   "outputs": [],
   "source": [
    "km = KMeans(n_clusters=20, random_state=4995).fit(lat)\n",
    "# ari = adjusted_rand_score(km.labels_, clusters)"
   ]
  },
  {
   "cell_type": "code",
   "execution_count": null,
   "id": "06Nu0rrypHT6",
   "metadata": {
    "colab": {
     "base_uri": "https://localhost:8080/",
     "height": 417
    },
    "executionInfo": {
     "elapsed": 7970,
     "status": "ok",
     "timestamp": 1639974241833,
     "user": {
      "displayName": "Kevin Chen",
      "photoUrl": "https://lh3.googleusercontent.com/a-/AOh14GjvBvIsUaUnbmQbOP1phY7Z8t788zlfrrZQmVLNbw=s64",
      "userId": "14158228473175021444"
     },
     "user_tz": 300
    },
    "id": "06Nu0rrypHT6",
    "outputId": "bc770df0-8a89-4dbc-b384-47a9014c0b67"
   },
   "outputs": [
    {
     "name": "stdout",
     "output_type": "stream",
     "text": [
      "[t-SNE] Computing 91 nearest neighbors...\n",
      "[t-SNE] Indexed 2000 samples in 0.003s...\n",
      "[t-SNE] Computed neighbors for 2000 samples in 0.036s...\n",
      "[t-SNE] Computed conditional probabilities for sample 1000 / 2000\n",
      "[t-SNE] Computed conditional probabilities for sample 2000 / 2000\n",
      "[t-SNE] Mean sigma: 0.090836\n",
      "[t-SNE] KL divergence after 250 iterations with early exaggeration: 47.915874\n",
      "[t-SNE] KL divergence after 1000 iterations: 0.194037\n"
     ]
    },
    {
     "data": {
      "image/png": "[encoded data removed]",
      "text/plain": [
       "<Figure size 432x288 with 1 Axes>"
      ]
     },
     "metadata": {
      "needs_background": "light"
     },
     "output_type": "display_data"
    }
   ],
   "source": [
    "clustering_analysis(\n",
    "    SpikeSortingVAE,\n",
    "    \"experiments/vaes/vae_6latent/model.ckpt\",\n",
    "    templates,\n",
    "    clusters\n",
    ")"
   ]
  },
  {
   "cell_type": "code",
   "execution_count": 237,
   "id": "SbIcMFMOgS0k",
   "metadata": {
    "colab": {
     "base_uri": "https://localhost:8080/",
     "height": 417
    },
    "executionInfo": {
     "elapsed": 16215,
     "status": "ok",
     "timestamp": 1639981645535,
     "user": {
      "displayName": "Kevin Chen",
      "photoUrl": "https://lh3.googleusercontent.com/a-/AOh14GjvBvIsUaUnbmQbOP1phY7Z8t788zlfrrZQmVLNbw=s64",
      "userId": "14158228473175021444"
     },
     "user_tz": 300
    },
    "id": "SbIcMFMOgS0k",
    "outputId": "a480a66b-1cf2-4c4e-94b0-e2f17c0399d0"
   },
   "outputs": [
    {
     "name": "stdout",
     "output_type": "stream",
     "text": [
      "[t-SNE] Computing 91 nearest neighbors...\n",
      "[t-SNE] Indexed 2000 samples in 0.003s...\n",
      "[t-SNE] Computed neighbors for 2000 samples in 0.063s...\n",
      "[t-SNE] Computed conditional probabilities for sample 1000 / 2000\n",
      "[t-SNE] Computed conditional probabilities for sample 2000 / 2000\n",
      "[t-SNE] Mean sigma: 3.039425\n",
      "[t-SNE] KL divergence after 250 iterations with early exaggeration: 48.010330\n",
      "[t-SNE] KL divergence after 1000 iterations: 0.157567\n"
     ]
    },
    {
     "data": {
      "image/png": "[encoded data removed]",
      "text/plain": [
       "<Figure size 432x288 with 1 Axes>"
      ]
     },
     "metadata": {
      "needs_background": "light"
     },
     "output_type": "display_data"
    }
   ],
   "source": [
    "from sklearn.decomposition import IncrementalPCA\n",
    "\n",
    "pca = IncrementalPCA(n_components=6)\n",
    "reps = pca.fit_transform(templates.reshape(2000, -1))\n",
    "\n",
    "km = KMeans(n_clusters=20, random_state=4995).fit(reps)\n",
    "ari = adjusted_rand_score(km.labels_, clusters)\n",
    "\n",
    "z = TSNE(n_components=2, verbose=1, random_state=4995).fit_transform(reps)\n",
    "plt.figure()\n",
    "plt.scatter(z[:, 0], z[:, 1], cmap=\"tab20\", c=clusters)\n",
    "plt.title(f\"k-Means ARI = {ari:.3f}\")\n",
    "plt.savefig(f\"visualizations/pca_clustering.png\")"
   ]
  }
 ],
 "metadata": {
  "colab": {
   "collapsed_sections": [
    "8_70wi0sbe8C",
    "A6kUaD3YT3vK",
    "CojgLrYGWKbl"
   ],
   "name": "clustering.ipynb",
   "provenance": []
  },
  "kernelspec": {
   "display_name": "Python 3 (ipykernel)",
   "language": "python",
   "name": "python3"
  },
  "language_info": {
   "codemirror_mode": {
    "name": "ipython",
    "version": 3
   },
   "file_extension": ".py",
   "mimetype": "text/x-python",
   "name": "python",
   "nbconvert_exporter": "python",
   "pygments_lexer": "ipython3",
   "version": "3.7.11"
  }
 },
 "nbformat": 4,
 "nbformat_minor": 5
}
