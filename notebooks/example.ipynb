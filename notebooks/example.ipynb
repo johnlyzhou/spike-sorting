{
 "cells": [
  {
   "cell_type": "markdown",
   "id": "7a18b0eb",
   "metadata": {},
   "source": [
    "# Full Analysis Example"
   ]
  },
  {
   "cell_type": "markdown",
   "id": "00bc5c1a",
   "metadata": {},
   "source": [
    "### Imports"
   ]
  },
  {
   "cell_type": "code",
   "execution_count": 1,
   "id": "6cb0f75e",
   "metadata": {},
   "outputs": [],
   "source": [
    "import json\n",
    "import os\n",
    "from pathlib import Path\n",
    "\n",
    "import numpy as np\n",
    "from omegaconf import OmegaConf\n",
    "import pytorch_lightning as pl\n",
    "from pytorch_lightning import Trainer, seed_everything\n",
    "from pytorch_lightning.callbacks import TQDMProgressBar, ModelCheckpoint, EarlyStopping\n",
    "from pl_bolts.callbacks import PrintTableMetricsCallback\n",
    "import torch\n",
    "\n",
    "from src.data.preprocess_templates import plot_templates, get_max_chan_temps, take_channel_range, localize_wfs\n",
    "from src.data.make_datasets import (\n",
    "    featurization_dataset, positional_invariance_dataset, clustering_dataset, \n",
    "    time_center_templates, normalize_inputs\n",
    ")\n",
    "from src.models.ae import *\n",
    "from src.models.vae import *\n",
    "from src.models.spike_vaes import *\n",
    "from src.models.train import train"
   ]
  },
  {
   "cell_type": "markdown",
   "id": "25e966b4",
   "metadata": {},
   "source": [
    "### Load Data"
   ]
  },
  {
   "cell_type": "code",
   "execution_count": 2,
   "id": "286ca8f5",
   "metadata": {},
   "outputs": [],
   "source": [
    "RAW_DATA_DIR = \"/Users/johnzhou/research/spike-sorting/data/raw\"\n",
    "PROCESS_DATA_DIR = \"/Users/johnzhou/research/spike-sorting/data/processed\"\n",
    "\n",
    "# Cleaned and denoised templates\n",
    "templates_fname = \"templates_yass.npy\"\n",
    "templates_fpath = os.path.join(RAW_DATA_DIR, templates_fname)\n",
    "templates = np.load(templates_fpath)\n",
    "\n",
    "# Probe geometry\n",
    "geom_fname = \"np2_channel_map.npy\"\n",
    "geom_fpath = os.path.join(RAW_DATA_DIR, geom_fname)\n",
    "geom_array = np.load(geom_fpath)\n",
    "channels_pos = geom_array[:20]"
   ]
  },
  {
   "cell_type": "markdown",
   "id": "b22b87d3",
   "metadata": {},
   "source": [
    "## Data Preprocessing"
   ]
  },
  {
   "cell_type": "code",
   "execution_count": 3,
   "id": "db1af15b",
   "metadata": {},
   "outputs": [],
   "source": [
    "a, loc, scale = 3, 100, 500\n",
    "n_channels = 20\n",
    "n_samples = 10000"
   ]
  },
  {
   "cell_type": "markdown",
   "id": "0e9293a6",
   "metadata": {},
   "source": [
    "### Identify and Remove Bad Templates"
   ]
  },
  {
   "cell_type": "code",
   "execution_count": 4,
   "id": "1a127d32",
   "metadata": {},
   "outputs": [
    {
     "name": "stdout",
     "output_type": "stream",
     "text": [
      "templates_yass.npy contains 170 templates for 121 timesteps across 384 channels.\n"
     ]
    }
   ],
   "source": [
    "num_templates, duration, num_channels = templates.shape\n",
    "print(\"{} contains {} templates for {} timesteps across {} channels.\".format(\n",
    "    templates_fname, num_templates, duration, num_channels))\n",
    "max_chan_temp = get_max_chan_temps(templates)\n",
    "# plot_templates(templates, max_chan_temp, n_channels=n_channels)"
   ]
  },
  {
   "cell_type": "code",
   "execution_count": 5,
   "id": "1ba42c67",
   "metadata": {
    "scrolled": false
   },
   "outputs": [
    {
     "name": "stderr",
     "output_type": "stream",
     "text": [
      "100%|████████████████████████████████████████| 132/132 [00:01<00:00, 102.32it/s]\n"
     ]
    }
   ],
   "source": [
    "bad_template_idxs = [3, 6, 27, 29, 32, 35, 36, 56, 57, 58, 59, 62, 63, 64, 74, 78, 79, 80, 85, 91, 92, \\\n",
    "    101, 107, 109, 110, 111, 118, 119, 121, 145, 150, 151, 152, 157, 159, 164, 165, 169]\n",
    "good_templates = np.delete(templates, bad_template_idxs, axis=0)\n",
    "templates_chans, templates_ptp_chans = take_channel_range(good_templates, n_channels_loc=n_channels)\n",
    "positions_templates = localize_wfs(templates_ptp_chans, geom_array)"
   ]
  },
  {
   "cell_type": "markdown",
   "id": "d04f8065",
   "metadata": {},
   "source": [
    "### Produce Datasets"
   ]
  },
  {
   "cell_type": "code",
   "execution_count": 6,
   "id": "3e881d08",
   "metadata": {},
   "outputs": [],
   "source": [
    "from src.data.make_datasets import (\n",
    "    featurization_dataset,\n",
    "    positional_invariance_dataset,\n",
    "    clustering_dataset\n",
    ")"
   ]
  },
  {
   "cell_type": "code",
   "execution_count": 7,
   "id": "a29fee07",
   "metadata": {
    "scrolled": true
   },
   "outputs": [
    {
     "name": "stderr",
     "output_type": "stream",
     "text": [
      "100%|███████████████████████████████████| 10000/10000 [00:04<00:00, 2019.46it/s]\n"
     ]
    },
    {
     "name": "stdout",
     "output_type": "stream",
     "text": [
      "Saving templates to folder /Users/johnzhou/research/spike-sorting/data/processed/featurization, array of size: (10000, 121, 20)\n",
      "Saving predicted PTPs to folder /Users/johnzhou/research/spike-sorting/data/processed/featurization, array of size: (10000, 20)\n",
      "Saving positions to folder /Users/johnzhou/research/spike-sorting/data/processed/featurization, array of size: (4, 10000)\n",
      "Saving unit indices to folder /Users/johnzhou/research/spike-sorting/data/processed/featurization, array of size: (10000,)\n"
     ]
    },
    {
     "name": "stderr",
     "output_type": "stream",
     "text": [
      "100%|███████████████████████████████████████| 100/100 [00:00<00:00, 1354.02it/s]\n"
     ]
    },
    {
     "name": "stdout",
     "output_type": "stream",
     "text": [
      "Saving templates to folder /Users/johnzhou/research/spike-sorting/data/processed/x_invariance_analysis, array of size: (100, 121, 20)\n",
      "Saving predicted PTPs to folder /Users/johnzhou/research/spike-sorting/data/processed/x_invariance_analysis, array of size: (100, 20)\n",
      "Saving positions to folder /Users/johnzhou/research/spike-sorting/data/processed/x_invariance_analysis, array of size: (4, 100)\n",
      "Saving unit indices to folder /Users/johnzhou/research/spike-sorting/data/processed/x_invariance_analysis, array of size: (100,)\n"
     ]
    },
    {
     "name": "stderr",
     "output_type": "stream",
     "text": [
      "100%|███████████████████████████████████████| 100/100 [00:00<00:00, 1150.25it/s]\n"
     ]
    },
    {
     "name": "stdout",
     "output_type": "stream",
     "text": [
      "Saving templates to folder /Users/johnzhou/research/spike-sorting/data/processed/z_invariance_analysis, array of size: (100, 121, 20)\n",
      "Saving predicted PTPs to folder /Users/johnzhou/research/spike-sorting/data/processed/z_invariance_analysis, array of size: (100, 20)\n",
      "Saving positions to folder /Users/johnzhou/research/spike-sorting/data/processed/z_invariance_analysis, array of size: (4, 100)\n",
      "Saving unit indices to folder /Users/johnzhou/research/spike-sorting/data/processed/z_invariance_analysis, array of size: (100,)\n"
     ]
    },
    {
     "name": "stderr",
     "output_type": "stream",
     "text": [
      "100%|███████████████████████████████████████| 100/100 [00:00<00:00, 1179.18it/s]\n"
     ]
    },
    {
     "name": "stdout",
     "output_type": "stream",
     "text": [
      "Saving templates to folder /Users/johnzhou/research/spike-sorting/data/processed/y_invariance_analysis, array of size: (100, 121, 20)\n",
      "Saving predicted PTPs to folder /Users/johnzhou/research/spike-sorting/data/processed/y_invariance_analysis, array of size: (100, 20)\n",
      "Saving positions to folder /Users/johnzhou/research/spike-sorting/data/processed/y_invariance_analysis, array of size: (4, 100)\n",
      "Saving unit indices to folder /Users/johnzhou/research/spike-sorting/data/processed/y_invariance_analysis, array of size: (100,)\n"
     ]
    },
    {
     "name": "stderr",
     "output_type": "stream",
     "text": [
      "100%|███████████████████████████████████████| 100/100 [00:00<00:00, 1064.93it/s]\n"
     ]
    },
    {
     "name": "stdout",
     "output_type": "stream",
     "text": [
      "Saving templates to folder /Users/johnzhou/research/spike-sorting/data/processed/alpha_invariance_analysis, array of size: (100, 121, 20)\n",
      "Saving predicted PTPs to folder /Users/johnzhou/research/spike-sorting/data/processed/alpha_invariance_analysis, array of size: (100, 20)\n",
      "Saving positions to folder /Users/johnzhou/research/spike-sorting/data/processed/alpha_invariance_analysis, array of size: (4, 100)\n",
      "Saving unit indices to folder /Users/johnzhou/research/spike-sorting/data/processed/alpha_invariance_analysis, array of size: (100,)\n"
     ]
    },
    {
     "name": "stderr",
     "output_type": "stream",
     "text": [
      "100%|███████████████████████████████████████████| 20/20 [00:01<00:00, 16.22it/s]\n"
     ]
    },
    {
     "name": "stdout",
     "output_type": "stream",
     "text": [
      "Saving templates to folder /Users/johnzhou/research/spike-sorting/data/processed/20_clusters, array of size: (2000, 121, 384)\n",
      "Saving predicted PTPs to folder /Users/johnzhou/research/spike-sorting/data/processed/20_clusters, array of size: (2000, 384)\n",
      "Saving positions to folder /Users/johnzhou/research/spike-sorting/data/processed/20_clusters, array of size: (4, 2000)\n",
      "Saving unit indices to folder /Users/johnzhou/research/spike-sorting/data/processed/20_clusters, array of size: (2000,)\n"
     ]
    }
   ],
   "source": [
    "# Featurization dataset to train VAEs/PCA\n",
    "featurize_experiment_name = \"featurization\"\n",
    "featurization_dataset(\n",
    "    templates_chans, positions_templates, channels_pos, a, loc, scale, n_samples=n_samples, \n",
    "    experiment_data_dir=PROCESS_DATA_DIR, experiment_name=featurize_experiment_name\n",
    ")\n",
    "\n",
    "# Positional invariance analysis dataset for visualization\n",
    "position_features = [\"x\", \"z\", \"y\", \"alpha\"]\n",
    "for vary_feature in position_features:\n",
    "    vary_experiment_name = \"{}_invariance_analysis\".format(vary_feature)\n",
    "    vary_samples = 100\n",
    "    positional_invariance_dataset(\n",
    "        templates_chans, positions_templates, channels_pos, a, loc, scale, vary_feature=vary_feature, \n",
    "        n_samples=vary_samples, experiment_data_dir=PROCESS_DATA_DIR, experiment_name=vary_experiment_name\n",
    "    )\n",
    "\n",
    "# Clustering dataset for feature evaluation\n",
    "num_clusters = 20\n",
    "num_samples_per_cluster = 100\n",
    "cluster_experiment_name = \"{}_clusters\".format(num_clusters)\n",
    "clustering_dataset(templates, positions_templates, channels_pos, a, loc, scale, n_clusters=num_clusters, \n",
    "                   num_samples_per_cluster=num_samples_per_cluster, experiment_data_dir=PROCESS_DATA_DIR, \n",
    "                   experiment_name=cluster_experiment_name)"
   ]
  },
  {
   "cell_type": "markdown",
   "id": "6e49369b",
   "metadata": {},
   "source": [
    "## Model Training"
   ]
  },
  {
   "cell_type": "code",
   "execution_count": null,
   "id": "8c1cb33c",
   "metadata": {},
   "outputs": [],
   "source": []
  }
 ],
 "metadata": {
  "kernelspec": {
   "display_name": "Python 3 (ipykernel)",
   "language": "python",
   "name": "python3"
  },
  "language_info": {
   "codemirror_mode": {
    "name": "ipython",
    "version": 3
   },
   "file_extension": ".py",
   "mimetype": "text/x-python",
   "name": "python",
   "nbconvert_exporter": "python",
   "pygments_lexer": "ipython3",
   "version": "3.7.11"
  }
 },
 "nbformat": 4,
 "nbformat_minor": 5
}
