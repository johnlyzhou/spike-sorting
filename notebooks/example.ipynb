{
 "cells": [
  {
   "cell_type": "markdown",
   "id": "7a18b0eb",
   "metadata": {},
   "source": [
    "# Full Analysis Example"
   ]
  },
  {
   "cell_type": "markdown",
   "id": "00bc5c1a",
   "metadata": {},
   "source": [
    "### Imports"
   ]
  },
  {
   "cell_type": "code",
   "execution_count": 2,
   "id": "6cb0f75e",
   "metadata": {},
   "outputs": [],
   "source": [
    "import json\n",
    "import os\n",
    "from pathlib import Path\n",
    "\n",
    "import numpy as np\n",
    "from omegaconf import OmegaConf\n",
    "import pytorch_lightning as pl\n",
    "from pytorch_lightning import Trainer, seed_everything\n",
    "from pytorch_lightning.callbacks import TQDMProgressBar, ModelCheckpoint, EarlyStopping\n",
    "from pl_bolts.callbacks import PrintTableMetricsCallback\n",
    "import torch\n",
    "\n",
    "from src.data.preprocess_templates import plot_templates, get_max_chan_temps, take_channel_range, localize_wfs\n",
    "from src.data.make_datasets import (\n",
    "    featurization_dataset, positional_invariance_dataset, clustering_dataset, \n",
    "    time_center_templates, normalize_inputs\n",
    ")\n",
    "from src.models.ae import *\n",
    "from src.models.vae import *\n",
    "from src.models.spike_vaes import *\n",
    "from src.models.train import train"
   ]
  },
  {
   "cell_type": "markdown",
   "id": "25e966b4",
   "metadata": {},
   "source": [
    "### Load Data"
   ]
  },
  {
   "cell_type": "code",
   "execution_count": 4,
   "id": "286ca8f5",
   "metadata": {},
   "outputs": [],
   "source": [
    "RAW_DATA_DIR = \"/Users/johnzhou/research/spike-sorting/data/raw\"\n",
    "PROCESS_DATA_DIR = \"/Users/johnzhou/research/spike-sorting/data/processed\"\n",
    "\n",
    "# Cleaned and denoised templates\n",
    "templates_fname = \"templates_yass.npy\"\n",
    "templates_fpath = os.path.join(RAW_DATA_DIR, templates_fname)\n",
    "templates = np.load(templates_fpath)\n",
    "\n",
    "# Probe geometry\n",
    "geom_fname = \"np2_channel_map.npy\"\n",
    "geom_fpath = os.path.join(RAW_DATA_DIR, geom_fname)\n",
    "geom_array = np.load(geom_fpath)\n",
    "channels_pos = geom_array[:20]"
   ]
  },
  {
   "cell_type": "markdown",
   "id": "b22b87d3",
   "metadata": {},
   "source": [
    "## Data Preprocessing"
   ]
  },
  {
   "cell_type": "code",
   "execution_count": 5,
   "id": "db1af15b",
   "metadata": {},
   "outputs": [],
   "source": [
    "a, loc, scale = 3, 100, 500\n",
    "n_channels = 20\n",
    "n_samples = 10000"
   ]
  },
  {
   "cell_type": "markdown",
   "id": "0e9293a6",
   "metadata": {},
   "source": [
    "### Identify and Remove Bad Templates"
   ]
  },
  {
   "cell_type": "code",
   "execution_count": 6,
   "id": "1a127d32",
   "metadata": {},
   "outputs": [
    {
     "name": "stdout",
     "output_type": "stream",
     "text": [
      "templates_yass.npy contains 170 templates for 121 timesteps across 384 channels.\n"
     ]
    }
   ],
   "source": [
    "num_templates, duration, num_channels = templates.shape\n",
    "print(\"{} contains {} templates for {} timesteps across {} channels.\".format(\n",
    "    templates_fname, num_templates, duration, num_channels))\n",
    "max_chan_temp = get_max_chan_temps(templates)\n",
    "# plot_templates(templates, max_chan_temp, n_channels=n_channels)"
   ]
  },
  {
   "cell_type": "code",
   "execution_count": 7,
   "id": "1ba42c67",
   "metadata": {},
   "outputs": [
    {
     "name": "stderr",
     "output_type": "stream",
     "text": [
      "100%|████████████████████████████████████████| 132/132 [00:01<00:00, 110.54it/s]\n"
     ]
    }
   ],
   "source": [
    "bad_template_idxs = [3, 6, 27, 29, 32, 35, 36, 56, 57, 58, 59, 62, 63, 64, 74, 78, 79, 80, 85, 91, 92, \\\n",
    "    101, 107, 109, 110, 111, 118, 119, 121, 145, 150, 151, 152, 157, 159, 164, 165, 169]\n",
    "good_templates = np.delete(templates, bad_template_idxs, axis=0)\n",
    "templates_chans, templates_ptp_chans = take_channel_range(good_templates, n_channels_loc=n_channels)\n",
    "positions_templates = localize_wfs(templates_ptp_chans, geom_array)"
   ]
  },
  {
   "cell_type": "markdown",
   "id": "d04f8065",
   "metadata": {},
   "source": [
    "### Produce Featurization Dataset"
   ]
  },
  {
   "cell_type": "code",
   "execution_count": 7,
   "id": "49052280",
   "metadata": {},
   "outputs": [
    {
     "name": "stderr",
     "output_type": "stream",
     "text": [
      "100%|███████████████████████████████████| 10000/10000 [00:03<00:00, 2575.01it/s]\n"
     ]
    }
   ],
   "source": [
    "featurize_templates, featurize_predicted_ptps, featurize_positions, featurize_idx_units = featurization_dataset(\n",
    "    templates_chans, positions_templates, channels_pos, a, loc, scale, n_samples=n_samples\n",
    ")"
   ]
  },
  {
   "cell_type": "markdown",
   "id": "c95b2421",
   "metadata": {},
   "source": [
    "### Produce Positional Invariance Analysis Dataset"
   ]
  },
  {
   "cell_type": "code",
   "execution_count": 8,
   "id": "da342e6c",
   "metadata": {},
   "outputs": [
    {
     "name": "stderr",
     "output_type": "stream",
     "text": [
      "100%|███████████████████████████████████████| 100/100 [00:00<00:00, 1828.16it/s]\n"
     ]
    }
   ],
   "source": [
    "vary_feature = \"x\"\n",
    "vary_samples = 100\n",
    "invar_templates, invar_predicted_ptps, invar_positions, invar_idx_units = positional_invariance_dataset(\n",
    "    templates_chans, positions_templates, channels_pos, a, loc, scale, vary_feature=vary_feature, \n",
    "    n_samples=vary_samples\n",
    ")"
   ]
  },
  {
   "cell_type": "markdown",
   "id": "9a33e619",
   "metadata": {},
   "source": [
    "### Produce Clustering Dataset"
   ]
  },
  {
   "cell_type": "code",
   "execution_count": 9,
   "id": "9b21c1e2",
   "metadata": {
    "scrolled": true
   },
   "outputs": [
    {
     "name": "stderr",
     "output_type": "stream",
     "text": [
      "100%|███████████████████████████████████████████| 20/20 [00:00<00:00, 27.27it/s]\n"
     ]
    }
   ],
   "source": [
    "num_clusters = 20\n",
    "num_samples_per_cluster = 100\n",
    "cluster_templates, cluster_predicted_ptps, cluster_positions, cluster_idx_units = clustering_dataset(\n",
    "    templates_chans, positions_templates, channels_pos, a, loc, scale, n_clusters=num_clusters, \n",
    "    num_samples_per_cluster=num_samples_per_cluster\n",
    ")"
   ]
  },
  {
   "cell_type": "code",
   "execution_count": 1,
   "id": "ad3bd375",
   "metadata": {},
   "outputs": [],
   "source": [
    "def saver(func):\n",
    "    def wrapper_saver(*args, **kwargs):\n",
    "        templates, predicted_ptps, positions, idx_units = func(*args)\n",
    "        print(\"Saving templates, array of size: {}\".format(templates.shape))\n",
    "#         np.save(\"{}/templates.npy\".format(PROCESS_DATA_DIR), templates)\n",
    "        print(\"Saving predicted PTPs, array of size: {}\".format(predicted_ptps.shape))\n",
    "#         np.save(\"{}/predicted_ptps.npy\".format(PROCESS_DATA_DIR), predicted_ptps)\n",
    "        print(\"Saving positions, array of size: {}\".format(positions.shape))\n",
    "#         np.save(\"{}/positions.npy\".format(PROCESS_DATA_DIR), positions)\n",
    "        print(\"Saving unit indices, array of size: {}\".format(idx_units.shape))\n",
    "#         np.save(\"{}/unit_idxs.npy\".format(PROCESS_DATA_DIR), idx_units)\n",
    "    return wrapper_saver"
   ]
  },
  {
   "cell_type": "code",
   "execution_count": 17,
   "id": "58354363",
   "metadata": {},
   "outputs": [],
   "source": [
    "import scipy.stats as stats\n",
    "from tqdm import tqdm\n",
    "\n",
    "@saver\n",
    "def save_featurization_dataset(templates, positions_templates, channels_pos, a, loc, scale, n_samples=10000):\n",
    "    return featurization_dataset(templates_chans, positions_templates, channels_pos, a, loc, scale, \n",
    "                                 n_samples=n_samples)"
   ]
  },
  {
   "cell_type": "code",
   "execution_count": 18,
   "id": "704d630d",
   "metadata": {},
   "outputs": [
    {
     "name": "stderr",
     "output_type": "stream",
     "text": [
      "100%|███████████████████████████████████| 10000/10000 [00:03<00:00, 2508.68it/s]\n"
     ]
    },
    {
     "name": "stdout",
     "output_type": "stream",
     "text": [
      "Saving templates, array of size: (10000, 121, 20)\n",
      "Saving predicted PTPs, array of size: (10000, 20)\n",
      "Saving positions, array of size: (4, 10000)\n",
      "Saving unit indices, array of size: (10000,)\n"
     ]
    }
   ],
   "source": [
    "save_featurization_dataset(\n",
    "    templates_chans, positions_templates, channels_pos, a, loc, scale, n_samples=n_samples\n",
    ")"
   ]
  },
  {
   "cell_type": "markdown",
   "id": "6e49369b",
   "metadata": {},
   "source": [
    "## Model Training"
   ]
  },
  {
   "cell_type": "code",
   "execution_count": null,
   "id": "8c1cb33c",
   "metadata": {},
   "outputs": [],
   "source": []
  }
 ],
 "metadata": {
  "kernelspec": {
   "display_name": "Python 3 (ipykernel)",
   "language": "python",
   "name": "python3"
  },
  "language_info": {
   "codemirror_mode": {
    "name": "ipython",
    "version": 3
   },
   "file_extension": ".py",
   "mimetype": "text/x-python",
   "name": "python",
   "nbconvert_exporter": "python",
   "pygments_lexer": "ipython3",
   "version": "3.7.11"
  }
 },
 "nbformat": 4,
 "nbformat_minor": 5
}
