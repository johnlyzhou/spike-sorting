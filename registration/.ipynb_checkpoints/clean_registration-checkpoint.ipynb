{
 "cells": [
  {
   "cell_type": "code",
   "execution_count": 1,
   "id": "stylish-uncle",
   "metadata": {},
   "outputs": [],
   "source": [
    "import os\n",
    "import os.path\n",
    "from os import path\n",
    "import time\n",
    "import sys\n",
    "import numpy as np\n",
    "import torch\n",
    "import pickle\n",
    "from tqdm import tqdm\n",
    "import scipy\n",
    "import scipy.interpolate as ip\n",
    "from scipy.signal import convolve\n",
    "import matplotlib.pyplot as plt\n",
    "from matplotlib.gridspec import GridSpec as gridspec\n",
    "from fast_histogram import histogram2d\n",
    "\n",
    "import yass\n",
    "from yass import set_config, read_config\n",
    "from yass.reader import READER\n",
    "from yass import preprocess, detect, cluster, postprocess, deconvolve, residual, noise, soft_assignment\n",
    "from yass.preprocess.util import filter_standardize_batch, get_std, _butterworth, merge_filtered_files\n",
    "from yass.template import run_template_computation\n",
    "\n",
    "\n",
    "# Calculate Histograms\n",
    "def electrode2space(config, sigma=50):\n",
    "    x = int(config.geom[:, 1].max())\n",
    "    M = np.exp(-(config.geom[:, 1:] - np.arange(x))**2/(2*sigma**2))\n",
    "    return np.divide(M.T, M.sum(0, keepdims=True).T + 1e-6).T\n",
    "\n",
    "\n",
    "def calc_histogram(ts, M, gauss_window, nbins=10, a=8, b=15,  apply_bg_removal=False, quant=0.9):\n",
    "    ts = torch.from_numpy(ts).cuda().float()\n",
    "    print(np.shape(ts))\n",
    "    mp2d = torch.nn.MaxPool2d(kernel_size=[121, 1], stride=[20, 1]).cuda()\n",
    "    ptp_sliding = mp2d(ts[None])[0] + mp2d(-ts[None])[0]\n",
    "\n",
    "    if apply_bg_removal:\n",
    "        for i in range(3):\n",
    "            quantile_s = torch.kthvalue(ptp_sliding, int(\n",
    "                quant * ptp_sliding.shape[1]), dim=1, keepdims=True)[0]  # size num_timepoints\n",
    "            ptp_sliding = torch.nn.functional.relu(ptp_sliding - quantile_s)\n",
    "            quantile_t = torch.kthvalue(ptp_sliding, int(\n",
    "                quant * ptp_sliding.shape[0]), dim=0, keepdims=True)[0]  # size num_channels\n",
    "            ptp_sliding = torch.nn.functional.relu(ptp_sliding - quantile_t)\n",
    "\n",
    "    ptp_sliding = np.matmul(ptp_sliding.cpu().numpy(), M)*gauss_window\n",
    "    bins = np.tile(np.arange(M.shape[1]), ptp_sliding.shape[0])\n",
    "    hist_arrays = histogram2d(ptp_sliding.ravel(), bins, bins=(\n",
    "        nbins, M.shape[1]), range=[[a, b], [0, M.shape[1]]])\n",
    "    hist_arrays /= (hist_arrays.sum(0, keepdims=True)+1e-6)\n",
    "    del ts\n",
    "    torch.cuda.empty_cache()\n",
    "    return ptp_sliding, hist_arrays\n",
    "\n",
    "\n",
    "def calc_displacement(displacement, n_iter=100):\n",
    "    n_batch = displacement.shape[0]\n",
    "    p = np.zeros(displacement.shape[0])\n",
    "    pprev = p\n",
    "    for i in range(n_iter):\n",
    "        mat_norm = displacement + p.repeat(repeats=n_batch).reshape(\n",
    "            (n_batch, n_batch)) - p.repeat(repeats=n_batch).reshape((n_batch, n_batch)).T\n",
    "        p += 2*((displacement-np.diag(displacement)).sum(1) -\n",
    "                (n_batch-1)*p)/np.linalg.norm(mat_norm)\n",
    "    return p\n",
    "\n",
    "\n",
    "def calc_displacement_matrix(hist, nbins, disp=100, step_size=1, batchsize=200):\n",
    "    num_hist = hist.shape[0]\n",
    "    possible_displacement = np.arange(-disp, disp + step_size, step_size)\n",
    "    hist = torch.from_numpy(hist).cuda().float()\n",
    "    c2d = torch.nn.Conv2d(in_channels=1, out_channels=num_hist, kernel_size=[\n",
    "                          nbins, hist.shape[-1]], stride=1, padding=[0, possible_displacement.size//2], bias=False).cuda()\n",
    "    c2d.weight[:, 0] = hist\n",
    "    displacement = np.zeros([hist.shape[0], hist.shape[0]])\n",
    "    for i in tqdm(range(hist.shape[0]//batchsize)):\n",
    "        displacement[i*batchsize:(i+1)*batchsize] = possible_displacement[c2d(\n",
    "            hist[i*batchsize:(i+1)*batchsize, None])[:, :, 0, :].argmax(2).cpu()]\n",
    "    return calc_displacement(displacement), displacement\n",
    "\n",
    "\n",
    "def get_means_windows(config, nwindows):\n",
    "    variance = config.geom[:, 1].max()/(0.5*nwindows)\n",
    "    x = int(config.geom[:, 1].max())\n",
    "    if nwindows == 1:\n",
    "        return np.ones((1, x)), []\n",
    "    else:\n",
    "        space = int(x//(nwindows+1))\n",
    "        means = np.linspace(space, x-space, nwindows, dtype=np.int16)\n",
    "        windows = np.zeros((nwindows, x))\n",
    "        M = electrode2space(config)\n",
    "        for i in range(nwindows):\n",
    "            windows[i] = np.exp(-(np.matmul(config.geom[:, 1],\n",
    "                                            M) - means[i])**2 / (2*variance**2))\n",
    "        return windows, means\n",
    "\n",
    "\n",
    "# Displacement estimate\n",
    "\n",
    "def smooth_displacement(estimated_displacement, num_hist=1000):\n",
    "    arr_conv = np.arange(-num_hist, num_hist + 1)\n",
    "    window = np.exp(-arr_conv**2/(2*64))/(np.sqrt(2*np.pi*64))\n",
    "    return convolve(estimated_displacement, window, mode='same')\n",
    "\n",
    "\n",
    "def create_displacement_map(config, displacement_estimate, windows):\n",
    "    x = int(config.geom[:, 1].max())\n",
    "    displacement_map = np.zeros((x, displacement_estimate.shape[1]))\n",
    "    for i in tqdm(range(x)):\n",
    "        sum_window = 0\n",
    "        for j in range(windows.shape[0]):\n",
    "            displacement_map[i] += windows[j, i]*displacement_estimate[j, :]\n",
    "            sum_window += windows[j, i]\n",
    "        displacement_map[i] /= sum_window\n",
    "    return displacement_map\n",
    "\n",
    "\n",
    "def estimate_displacement(config, reader, n_batch, nbins, nwindows, a_val, b_val, output_dir):\n",
    "\n",
    "    M = electrode2space(config)\n",
    "\n",
    "    hist = np.zeros([nwindows, n_batch, nbins, M.shape[1]])\n",
    "    windows, _ = get_means_windows(config, nwindows)\n",
    "    for j in range(nwindows):\n",
    "        W = windows[j]\n",
    "        for i in tqdm(range(n_batch)):\n",
    "            ts = reader.read_data_batch(i, add_buffer=True)\n",
    "            hist[j, i] = calc_histogram(ts, M, W, nbins, a=a_val, b=b_val)[1]\n",
    "\n",
    "    displacement_estimate = np.zeros((nwindows, n_batch))\n",
    "    for j in range(nwindows):\n",
    "        displacement_estimate[j] = smooth_displacement(\n",
    "            calc_displacement_matrix(hist[j], nbins)[0])\n",
    "\n",
    "    np.savetxt(\"{}/w-{}_a-{}_b-{}_bn-{}.txt\".format(output_dir, nwindows,\n",
    "                                                         a_val, b_val, nbins), displacement_estimate)"
   ]
  },
  {
   "cell_type": "code",
   "execution_count": 4,
   "id": "bright-supervision",
   "metadata": {},
   "outputs": [
    {
     "name": "stdout",
     "output_type": "stream",
     "text": [
      "working on cortexlab\n",
      "1000\n",
      "384\n",
      "config set up\n",
      "working on nwindows: 1, nbins: 10, a: 8, b: 10\n"
     ]
    },
    {
     "name": "stderr",
     "output_type": "stream",
     "text": [
      "\r",
      "  0%|          | 0/1000 [00:00<?, ?it/s]"
     ]
    },
    {
     "name": "stdout",
     "output_type": "stream",
     "text": [
      "torch.Size([30600, 384])\n"
     ]
    },
    {
     "name": "stderr",
     "output_type": "stream",
     "text": [
      "\r",
      "  0%|          | 1/1000 [00:03<52:32,  3.16s/it]"
     ]
    },
    {
     "name": "stdout",
     "output_type": "stream",
     "text": [
      "torch.Size([30600, 384])\n"
     ]
    },
    {
     "name": "stderr",
     "output_type": "stream",
     "text": [
      "  0%|          | 3/1000 [00:04<30:54,  1.86s/it]"
     ]
    },
    {
     "name": "stdout",
     "output_type": "stream",
     "text": [
      "torch.Size([30600, 384])\n"
     ]
    },
    {
     "name": "stderr",
     "output_type": "stream",
     "text": [
      "\r",
      "  0%|          | 4/1000 [00:04<23:04,  1.39s/it]"
     ]
    },
    {
     "name": "stdout",
     "output_type": "stream",
     "text": [
      "torch.Size([30600, 384])\n",
      "torch.Size([30600, 384])\n"
     ]
    },
    {
     "name": "stderr",
     "output_type": "stream",
     "text": [
      "\r",
      "  0%|          | 5/1000 [00:05<17:34,  1.06s/it]"
     ]
    },
    {
     "name": "stdout",
     "output_type": "stream",
     "text": [
      "torch.Size([30600, 384])\n"
     ]
    },
    {
     "name": "stderr",
     "output_type": "stream",
     "text": [
      "  1%|          | 7/1000 [00:05<10:43,  1.54it/s]"
     ]
    },
    {
     "name": "stdout",
     "output_type": "stream",
     "text": [
      "torch.Size([30600, 384])\n",
      "torch.Size([30600, 384])\n"
     ]
    },
    {
     "name": "stderr",
     "output_type": "stream",
     "text": [
      "\r",
      "  1%|          | 8/1000 [00:06<10:12,  1.62it/s]"
     ]
    },
    {
     "name": "stdout",
     "output_type": "stream",
     "text": [
      "torch.Size([30600, 384])\n"
     ]
    },
    {
     "name": "stderr",
     "output_type": "stream",
     "text": [
      "\r",
      "  1%|          | 9/1000 [00:06<09:45,  1.69it/s]"
     ]
    },
    {
     "name": "stdout",
     "output_type": "stream",
     "text": [
      "torch.Size([30600, 384])\n"
     ]
    },
    {
     "name": "stderr",
     "output_type": "stream",
     "text": [
      "\r",
      "  1%|          | 10/1000 [00:07<10:09,  1.62it/s]"
     ]
    },
    {
     "name": "stdout",
     "output_type": "stream",
     "text": [
      "torch.Size([30600, 384])\n"
     ]
    },
    {
     "name": "stderr",
     "output_type": "stream",
     "text": [
      "  1%|          | 12/1000 [00:07<07:01,  2.34it/s]"
     ]
    },
    {
     "name": "stdout",
     "output_type": "stream",
     "text": [
      "torch.Size([30600, 384])\n"
     ]
    },
    {
     "name": "stderr",
     "output_type": "stream",
     "text": [
      "\r",
      "  1%|▏         | 13/1000 [00:08<06:17,  2.62it/s]"
     ]
    },
    {
     "name": "stdout",
     "output_type": "stream",
     "text": [
      "torch.Size([30600, 384])\n"
     ]
    },
    {
     "name": "stderr",
     "output_type": "stream",
     "text": [
      "\r",
      "  1%|▏         | 14/1000 [00:08<05:32,  2.96it/s]"
     ]
    },
    {
     "name": "stdout",
     "output_type": "stream",
     "text": [
      "torch.Size([30600, 384])\n"
     ]
    },
    {
     "name": "stderr",
     "output_type": "stream",
     "text": [
      "\r",
      "  2%|▏         | 15/1000 [00:08<04:51,  3.38it/s]"
     ]
    },
    {
     "name": "stdout",
     "output_type": "stream",
     "text": [
      "torch.Size([30600, 384])\n",
      "torch.Size([30600, 384])\n"
     ]
    },
    {
     "name": "stderr",
     "output_type": "stream",
     "text": [
      "  2%|▏         | 16/1000 [00:09<09:15,  1.77it/s]\n"
     ]
    },
    {
     "name": "stdout",
     "output_type": "stream",
     "text": [
      "torch.Size([30600, 384])\n"
     ]
    },
    {
     "ename": "KeyboardInterrupt",
     "evalue": "",
     "output_type": "error",
     "traceback": [
      "\u001b[0;31m---------------------------------------------------------------------------\u001b[0m",
      "\u001b[0;31mKeyboardInterrupt\u001b[0m                         Traceback (most recent call last)",
      "\u001b[0;32m<ipython-input-4-ea05addb0894>\u001b[0m in \u001b[0;36m<module>\u001b[0;34m\u001b[0m\n\u001b[1;32m     45\u001b[0m \u001b[0;34m\u001b[0m\u001b[0m\n\u001b[1;32m     46\u001b[0m \u001b[0;32mif\u001b[0m \u001b[0m__name__\u001b[0m \u001b[0;34m==\u001b[0m \u001b[0;34m\"__main__\"\u001b[0m\u001b[0;34m:\u001b[0m\u001b[0;34m\u001b[0m\u001b[0;34m\u001b[0m\u001b[0m\n\u001b[0;32m---> 47\u001b[0;31m     \u001b[0mmain\u001b[0m\u001b[0;34m(\u001b[0m\u001b[0;34m)\u001b[0m\u001b[0;34m\u001b[0m\u001b[0;34m\u001b[0m\u001b[0m\n\u001b[0m",
      "\u001b[0;32m<ipython-input-4-ea05addb0894>\u001b[0m in \u001b[0;36mmain\u001b[0;34m()\u001b[0m\n\u001b[1;32m     38\u001b[0m                         \u001b[0mstart\u001b[0m \u001b[0;34m=\u001b[0m \u001b[0mtime\u001b[0m\u001b[0;34m.\u001b[0m\u001b[0mtime\u001b[0m\u001b[0;34m(\u001b[0m\u001b[0;34m)\u001b[0m\u001b[0;34m\u001b[0m\u001b[0;34m\u001b[0m\u001b[0m\n\u001b[1;32m     39\u001b[0m                         estimate_displacement(config, reader, n_batch, nbin,\n\u001b[0;32m---> 40\u001b[0;31m                                               nwindow, a_val, b_val, expt_dir)\n\u001b[0m\u001b[1;32m     41\u001b[0m                         \u001b[0mend\u001b[0m \u001b[0;34m=\u001b[0m \u001b[0mtime\u001b[0m\u001b[0;34m.\u001b[0m\u001b[0mtime\u001b[0m\u001b[0;34m(\u001b[0m\u001b[0;34m)\u001b[0m\u001b[0;34m\u001b[0m\u001b[0;34m\u001b[0m\u001b[0m\n\u001b[1;32m     42\u001b[0m                         print(\"{} minutes for nwindows: {}, nbins: {}, a: {}, b: {}\".format(\n",
      "\u001b[0;32m<ipython-input-1-0406a1efc2d6>\u001b[0m in \u001b[0;36mestimate_displacement\u001b[0;34m(config, reader, n_batch, nbins, nwindows, a_val, b_val, output_dir)\u001b[0m\n\u001b[1;32m    127\u001b[0m         \u001b[0;32mfor\u001b[0m \u001b[0mi\u001b[0m \u001b[0;32min\u001b[0m \u001b[0mtqdm\u001b[0m\u001b[0;34m(\u001b[0m\u001b[0mrange\u001b[0m\u001b[0;34m(\u001b[0m\u001b[0mn_batch\u001b[0m\u001b[0;34m)\u001b[0m\u001b[0;34m)\u001b[0m\u001b[0;34m:\u001b[0m\u001b[0;34m\u001b[0m\u001b[0;34m\u001b[0m\u001b[0m\n\u001b[1;32m    128\u001b[0m             \u001b[0mts\u001b[0m \u001b[0;34m=\u001b[0m \u001b[0mreader\u001b[0m\u001b[0;34m.\u001b[0m\u001b[0mread_data_batch\u001b[0m\u001b[0;34m(\u001b[0m\u001b[0mi\u001b[0m\u001b[0;34m,\u001b[0m \u001b[0madd_buffer\u001b[0m\u001b[0;34m=\u001b[0m\u001b[0;32mTrue\u001b[0m\u001b[0;34m)\u001b[0m\u001b[0;34m\u001b[0m\u001b[0;34m\u001b[0m\u001b[0m\n\u001b[0;32m--> 129\u001b[0;31m             \u001b[0mhist\u001b[0m\u001b[0;34m[\u001b[0m\u001b[0mj\u001b[0m\u001b[0;34m,\u001b[0m \u001b[0mi\u001b[0m\u001b[0;34m]\u001b[0m \u001b[0;34m=\u001b[0m \u001b[0mcalc_histogram\u001b[0m\u001b[0;34m(\u001b[0m\u001b[0mts\u001b[0m\u001b[0;34m,\u001b[0m \u001b[0mM\u001b[0m\u001b[0;34m,\u001b[0m \u001b[0mW\u001b[0m\u001b[0;34m,\u001b[0m \u001b[0mnbins\u001b[0m\u001b[0;34m,\u001b[0m \u001b[0ma\u001b[0m\u001b[0;34m=\u001b[0m\u001b[0ma_val\u001b[0m\u001b[0;34m,\u001b[0m \u001b[0mb\u001b[0m\u001b[0;34m=\u001b[0m\u001b[0mb_val\u001b[0m\u001b[0;34m)\u001b[0m\u001b[0;34m[\u001b[0m\u001b[0;36m1\u001b[0m\u001b[0;34m]\u001b[0m\u001b[0;34m\u001b[0m\u001b[0;34m\u001b[0m\u001b[0m\n\u001b[0m\u001b[1;32m    130\u001b[0m \u001b[0;34m\u001b[0m\u001b[0m\n\u001b[1;32m    131\u001b[0m     \u001b[0mdisplacement_estimate\u001b[0m \u001b[0;34m=\u001b[0m \u001b[0mnp\u001b[0m\u001b[0;34m.\u001b[0m\u001b[0mzeros\u001b[0m\u001b[0;34m(\u001b[0m\u001b[0;34m(\u001b[0m\u001b[0mnwindows\u001b[0m\u001b[0;34m,\u001b[0m \u001b[0mn_batch\u001b[0m\u001b[0;34m)\u001b[0m\u001b[0;34m)\u001b[0m\u001b[0;34m\u001b[0m\u001b[0;34m\u001b[0m\u001b[0m\n",
      "\u001b[0;32m<ipython-input-1-0406a1efc2d6>\u001b[0m in \u001b[0;36mcalc_histogram\u001b[0;34m(ts, M, gauss_window, nbins, a, b, apply_bg_removal, quant)\u001b[0m\n\u001b[1;32m     45\u001b[0m             \u001b[0mptp_sliding\u001b[0m \u001b[0;34m=\u001b[0m \u001b[0mtorch\u001b[0m\u001b[0;34m.\u001b[0m\u001b[0mnn\u001b[0m\u001b[0;34m.\u001b[0m\u001b[0mfunctional\u001b[0m\u001b[0;34m.\u001b[0m\u001b[0mrelu\u001b[0m\u001b[0;34m(\u001b[0m\u001b[0mptp_sliding\u001b[0m \u001b[0;34m-\u001b[0m \u001b[0mquantile_t\u001b[0m\u001b[0;34m)\u001b[0m\u001b[0;34m\u001b[0m\u001b[0;34m\u001b[0m\u001b[0m\n\u001b[1;32m     46\u001b[0m \u001b[0;34m\u001b[0m\u001b[0m\n\u001b[0;32m---> 47\u001b[0;31m     \u001b[0mptp_sliding\u001b[0m \u001b[0;34m=\u001b[0m \u001b[0mnp\u001b[0m\u001b[0;34m.\u001b[0m\u001b[0mmatmul\u001b[0m\u001b[0;34m(\u001b[0m\u001b[0mptp_sliding\u001b[0m\u001b[0;34m.\u001b[0m\u001b[0mcpu\u001b[0m\u001b[0;34m(\u001b[0m\u001b[0;34m)\u001b[0m\u001b[0;34m.\u001b[0m\u001b[0mnumpy\u001b[0m\u001b[0;34m(\u001b[0m\u001b[0;34m)\u001b[0m\u001b[0;34m,\u001b[0m \u001b[0mM\u001b[0m\u001b[0;34m)\u001b[0m\u001b[0;34m*\u001b[0m\u001b[0mgauss_window\u001b[0m\u001b[0;34m\u001b[0m\u001b[0;34m\u001b[0m\u001b[0m\n\u001b[0m\u001b[1;32m     48\u001b[0m     \u001b[0mbins\u001b[0m \u001b[0;34m=\u001b[0m \u001b[0mnp\u001b[0m\u001b[0;34m.\u001b[0m\u001b[0mtile\u001b[0m\u001b[0;34m(\u001b[0m\u001b[0mnp\u001b[0m\u001b[0;34m.\u001b[0m\u001b[0marange\u001b[0m\u001b[0;34m(\u001b[0m\u001b[0mM\u001b[0m\u001b[0;34m.\u001b[0m\u001b[0mshape\u001b[0m\u001b[0;34m[\u001b[0m\u001b[0;36m1\u001b[0m\u001b[0;34m]\u001b[0m\u001b[0;34m)\u001b[0m\u001b[0;34m,\u001b[0m \u001b[0mptp_sliding\u001b[0m\u001b[0;34m.\u001b[0m\u001b[0mshape\u001b[0m\u001b[0;34m[\u001b[0m\u001b[0;36m0\u001b[0m\u001b[0;34m]\u001b[0m\u001b[0;34m)\u001b[0m\u001b[0;34m\u001b[0m\u001b[0;34m\u001b[0m\u001b[0m\n\u001b[1;32m     49\u001b[0m     hist_arrays = histogram2d(ptp_sliding.ravel(), bins, bins=(\n",
      "\u001b[0;31mKeyboardInterrupt\u001b[0m: "
     ]
    }
   ],
   "source": [
    "def main():\n",
    "    nbins = [10, 20]\n",
    "    a_vals = [8, 15]\n",
    "    b_vals = [10, 20]\n",
    "    # Number of windows for non-rigid registration -> set to 1 for rigid registration\n",
    "    nwindows = [1, 5, 10]\n",
    "    # READ DATA\n",
    "    fname_configs = ['/media/peter/2TB/hyundong/cortexlab/drift.yaml', \n",
    "                     '/media/peter/2TB/hyundong/CSHL047/drift.yaml',\n",
    "                     '/media/peter/2TB/hyundong/NP1/drift_np1.yaml']\n",
    "    recording_paths = ['/media/peter/2TB/hyundong/cortexlab/standardized.bin',\n",
    "                       '/media/peter/2TB/hyundong/CSHL047/standardized.bin',\n",
    "                      '/media/peter/2TB/hyundong/NP1/standardized.bin']\n",
    "\n",
    "\n",
    "    for fname_config, recording_path in zip(fname_configs, recording_paths):\n",
    "        expt_dir = fname_config.split('/')[-2]\n",
    "        #os.mkdir(expt_dir)\n",
    "        print(\"working on {}\".format(fname_config.split('/')[-2]))\n",
    "\n",
    "        config = set_config(fname_config, 'alltmp')\n",
    "        reader = READER(recording_path, 'int16', config, 1)\n",
    "        n_chan = config.recordings.n_channels\n",
    "        n_batch = reader.n_batches\n",
    "        print(reader.n_batches)\n",
    "        print(n_chan)\n",
    "        print(\"config set up\")\n",
    "\n",
    "        for nwindow in nwindows:\n",
    "            for a_val, b_val in zip(a_vals, b_vals):\n",
    "                for nbin in nbins:\n",
    "                    print(\"working on nwindows: {}, nbins: {}, a: {}, b: {}\".format(\n",
    "                        nwindow, nbin, a_val, b_val))\n",
    "                    if path.exists(\"{}/w-{}_a-{}_b-{}_bn-{}.txt\".format(expt_dir, nwindow, a_val, b_val, nbin)):\n",
    "                        print(\"already done, skipping...\")\n",
    "                        continue\n",
    "                    else:\n",
    "                        start = time.time()\n",
    "                        estimate_displacement(config, reader, n_batch, nbin,\n",
    "                                              nwindow, a_val, b_val, expt_dir)\n",
    "                        end = time.time()\n",
    "                        print(\"{} minutes for nwindows: {}, nbins: {}, a: {}, b: {}\".format(\n",
    "                            (end-start)/60, nwindow, nbin, a_val, b_val))\n",
    "\n",
    "\n",
    "if __name__ == \"__main__\":\n",
    "    main()"
   ]
  },
  {
   "cell_type": "code",
   "execution_count": null,
   "id": "killing-bryan",
   "metadata": {},
   "outputs": [],
   "source": []
  }
 ],
 "metadata": {
  "kernelspec": {
   "display_name": "Python 3 (ipykernel)",
   "language": "python",
   "name": "python3"
  },
  "language_info": {
   "codemirror_mode": {
    "name": "ipython",
    "version": 3
   },
   "file_extension": ".py",
   "mimetype": "text/x-python",
   "name": "python",
   "nbconvert_exporter": "python",
   "pygments_lexer": "ipython3",
   "version": "3.9.0"
  }
 },
 "nbformat": 4,
 "nbformat_minor": 5
}
